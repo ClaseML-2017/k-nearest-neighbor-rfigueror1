{
 "cells": [
  {
   "cell_type": "code",
   "execution_count": 13,
   "metadata": {
    "collapsed": true
   },
   "outputs": [],
   "source": [
    "import tensorflow as tf\n",
    "import numpy as np\n",
    "import random as rnd\n",
    "import sklearn.svm as svm"
   ]
  },
  {
   "cell_type": "code",
   "execution_count": 14,
   "metadata": {
    "collapsed": true
   },
   "outputs": [],
   "source": [
    "import matplotlib.pyplot as plt\n",
    "%matplotlib inline"
   ]
  },
  {
   "cell_type": "code",
   "execution_count": 15,
   "metadata": {},
   "outputs": [],
   "source": [
    "number_circles = 5\n",
    "number_points = 100000\n",
    "\n",
    "radius_of_circles_array = [rnd.randint(1,5) for i in range(0,number_circles)]\n",
    "x_center_point_circles = [rnd.randint(5,25) for i in range(0,number_circles)]\n",
    "y_center_point_circles = [rnd.randint(5,25) for i in range(0,number_circles)]\n",
    "\n",
    "x_points = [rnd.uniform(1,30) for i in range(0,number_points)]\n",
    "y_points = [rnd.uniform(1,30) for i in range(0,number_points)]\n",
    "x_distance =[[(x_points[i]-x_center_point_circles[u])**2 for i in range(0,number_points)] for u in range(0,number_circles)]\n",
    "y_distance =[[(y_points[i]-y_center_point_circles[u])**2 for i in range(0,number_points)] for u in range(0,number_circles)]\n",
    "z_points = np.asarray([[1 if ((x_distance[u][i]+y_distance[u][i])<radius_of_circles_array[u]) else 0 for i in range(0,number_points)] for u in range(0,number_circles)])\n",
    "z_points_color = np.asarray([[1 if 1 in z_points[:,i] else 0] for i in range(0,number_points)])\n",
    "X = np.asarray([x_points,y_points]).reshape(number_points,2)\n",
    "Y = z_points_color\n",
    "X_t = X\n",
    "Y_t = Y"
   ]
  },
  {
   "cell_type": "code",
   "execution_count": 16,
   "metadata": {},
   "outputs": [
    {
     "data": {
      "image/png": "[encoded data removed]",
      "text/plain": [
       "<matplotlib.figure.Figure at 0x7fc9e4845250>"
      ]
     },
     "metadata": {},
     "output_type": "display_data"
    }
   ],
   "source": [
    "plt.scatter(x_points, y_points, c=z_points_color)\n",
    "plt.show()"
   ]
  },
  {
   "cell_type": "code",
   "execution_count": 17,
   "metadata": {},
   "outputs": [
    {
     "data": {
      "text/plain": [
       "array([[0],\n",
       "       [0],\n",
       "       [0],\n",
       "       ..., \n",
       "       [0],\n",
       "       [0],\n",
       "       [0]])"
      ]
     },
     "execution_count": 17,
     "metadata": {},
     "output_type": "execute_result"
    }
   ],
   "source": [
    "Y"
   ]
  },
  {
   "cell_type": "code",
   "execution_count": 18,
   "metadata": {
    "collapsed": true
   },
   "outputs": [],
   "source": [
    "input_size = 2\n",
    "output_layer_size = 1\n",
    "middle_size = 6\n",
    "\n",
    "x = tf.placeholder(tf.float32,[None, input_size])\n",
    "\n",
    "y_ = tf.placeholder(tf.float32,[None, output_layer_size])\n",
    "\n",
    "\n",
    "W_layer1 = tf.Variable(tf.random_uniform([input_size,middle_size], -1, 1), name=\"W_layer1\")\n",
    "b_layer1 = tf.Variable(tf.zeros([middle_size]), name=\"b_layer1\") \n",
    "\n",
    "\n",
    "W_layer2 = tf.Variable(tf.random_uniform([middle_size,middle_size], -1, 1), name=\"W_layer2\")\n",
    "b_layer2 = tf.Variable(tf.zeros([middle_size]), name=\"b_layer2\")\n",
    "\n",
    "W_layer3 = tf.Variable(tf.random_uniform([middle_size,output_layer_size], -1, 1), name=\"W_layer3\")\n",
    "b_layer3 = tf.Variable(tf.zeros([output_layer_size]), name=\"b_layer3\")"
   ]
  },
  {
   "cell_type": "code",
   "execution_count": 19,
   "metadata": {
    "collapsed": true
   },
   "outputs": [],
   "source": [
    "hidden1 = tf.nn.sigmoid(tf.matmul(x,W_layer1)+b_layer1) #la de nuestra\n",
    "hidden2 = tf.nn.sigmoid(tf.matmul(hidden1,W_layer2)+b_layer2) #la de nuestra\n",
    "y = tf.nn.sigmoid(tf.matmul(hidden2,W_layer3)+b_layer3) #la de nuestra\n",
    "lossfn = tf.reduce_mean(tf.reduce_sum((y_-y)**2)) #cuadratico\n",
    "train_step = tf.train.GradientDescentOptimizer(0.01).minimize(lossfn)"
   ]
  },
  {
   "cell_type": "code",
   "execution_count": 20,
   "metadata": {
    "collapsed": true
   },
   "outputs": [],
   "source": [
    "init = tf.global_variables_initializer()\n",
    "sess = tf.Session() # tipo de sesion, puede ser interactiva"
   ]
  },
  {
   "cell_type": "code",
   "execution_count": 21,
   "metadata": {
    "collapsed": true
   },
   "outputs": [],
   "source": [
    "sess.run(init) \n",
    "\n",
    "Ws = []\n",
    "\n",
    "for i in range (1000):\n",
    "    sess.run(train_step, feed_dict = {x: X, y_: Y})"
   ]
  },
  {
   "cell_type": "code",
   "execution_count": 22,
   "metadata": {},
   "outputs": [
    {
     "name": "stdout",
     "output_type": "stream",
     "text": [
      "0.95755\n"
     ]
    }
   ],
   "source": [
    "correct_prediction = tf.equal(tf.round(y),y_) # aca estams definiendo otras operacioes\n",
    "accuracy = tf.reduce_mean(tf.cast(correct_prediction, tf.float32))\n",
    "print(sess.run(accuracy, feed_dict={x: X, y_: Y})) # las corremos"
   ]
  },
  {
   "cell_type": "code",
   "execution_count": 23,
   "metadata": {},
   "outputs": [
    {
     "name": "stdout",
     "output_type": "stream",
     "text": [
      "Accuracy NN: \n",
      "0.95755\n",
      "Accuracy RBF kernel: \n",
      "0.95755\n"
     ]
    }
   ],
   "source": [
    "print(\"Accuracy NN: \")\n",
    "print(sess.run(accuracy, feed_dict={x: X, y_: Y})) # las corremos\n",
    "\n",
    "print(\"Accuracy RBF kernel: \")\n",
    "sv3=svm.SVC(kernel='rbf')\n",
    "sv3.fit(X, Y)\n",
    "Y_svm3 = sv3.predict(X_t)\n",
    "print(sv3.score(X_t,Y_t))"
   ]
  }
 ],
 "metadata": {
  "kernelspec": {
   "display_name": "Python 2",
   "language": "python",
   "name": "python2"
  },
  "language_info": {
   "codemirror_mode": {
    "name": "ipython",
    "version": 2
   },
   "file_extension": ".py",
   "mimetype": "text/x-python",
   "name": "python",
   "nbconvert_exporter": "python",
   "pygments_lexer": "ipython2",
   "version": "2.7.12"
  }
 },
 "nbformat": 4,
 "nbformat_minor": 2
}
